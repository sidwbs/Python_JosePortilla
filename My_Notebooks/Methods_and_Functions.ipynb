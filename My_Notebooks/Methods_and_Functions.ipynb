{
 "cells": [
  {
   "cell_type": "markdown",
   "id": "30ed0262",
   "metadata": {},
   "source": [
    "  # Introduction to Functions\n",
    "  \n",
    "  - Functions in python allows us to create blocks of code that can be easily executed many times without needing to constantly rewrite the entire block of code."
   ]
  },
  {
   "cell_type": "code",
   "execution_count": 3,
   "id": "b31edfb4",
   "metadata": {},
   "outputs": [],
   "source": [
    " def say_hello():\n",
    "        print('hello')"
   ]
  },
  {
   "cell_type": "code",
   "execution_count": 4,
   "id": "41d7f1a5",
   "metadata": {},
   "outputs": [
    {
     "name": "stdout",
     "output_type": "stream",
     "text": [
      "hello\n"
     ]
    }
   ],
   "source": [
    "say_hello()"
   ]
  },
  {
   "cell_type": "code",
   "execution_count": 5,
   "id": "08104567",
   "metadata": {},
   "outputs": [
    {
     "data": {
      "text/plain": [
       "<function __main__.say_hello()>"
      ]
     },
     "execution_count": 5,
     "metadata": {},
     "output_type": "execute_result"
    }
   ],
   "source": [
    "say_hello"
   ]
  },
  {
   "cell_type": "code",
   "execution_count": 6,
   "id": "a5891d0a",
   "metadata": {},
   "outputs": [],
   "source": [
    "def say_hello(name):\n",
    "    print(f'hello {name}')"
   ]
  },
  {
   "cell_type": "code",
   "execution_count": 7,
   "id": "8e84e72a",
   "metadata": {},
   "outputs": [
    {
     "name": "stdout",
     "output_type": "stream",
     "text": [
      "hello Jose\n"
     ]
    }
   ],
   "source": [
    "say_hello('Jose')"
   ]
  },
  {
   "cell_type": "code",
   "execution_count": 8,
   "id": "8da0beb3",
   "metadata": {},
   "outputs": [],
   "source": [
    "def say_hello(name = 'Default'):\n",
    "    print(f'hello {name}')"
   ]
  },
  {
   "cell_type": "code",
   "execution_count": 9,
   "id": "21337998",
   "metadata": {},
   "outputs": [
    {
     "name": "stdout",
     "output_type": "stream",
     "text": [
      "hello Default\n"
     ]
    }
   ],
   "source": [
    "say_hello()"
   ]
  },
  {
   "cell_type": "code",
   "execution_count": 10,
   "id": "995eccb6",
   "metadata": {},
   "outputs": [
    {
     "name": "stdout",
     "output_type": "stream",
     "text": [
      "hello Jose\n"
     ]
    }
   ],
   "source": [
    "say_hello('Jose')"
   ]
  },
  {
   "cell_type": "code",
   "execution_count": 11,
   "id": "318e9ba2",
   "metadata": {},
   "outputs": [],
   "source": [
    "def add_num(num1, num2):\n",
    "    return num1 + num2"
   ]
  },
  {
   "cell_type": "code",
   "execution_count": 12,
   "id": "7c485413",
   "metadata": {},
   "outputs": [
    {
     "data": {
      "text/plain": [
       "25"
      ]
     },
     "execution_count": 12,
     "metadata": {},
     "output_type": "execute_result"
    }
   ],
   "source": [
    "add_num(15, 10)"
   ]
  },
  {
   "cell_type": "code",
   "execution_count": 13,
   "id": "87c29825",
   "metadata": {},
   "outputs": [],
   "source": [
    "result = add_num(15, 10)"
   ]
  },
  {
   "cell_type": "code",
   "execution_count": 14,
   "id": "d40752e3",
   "metadata": {},
   "outputs": [
    {
     "data": {
      "text/plain": [
       "25"
      ]
     },
     "execution_count": 14,
     "metadata": {},
     "output_type": "execute_result"
    }
   ],
   "source": [
    "result"
   ]
  },
  {
   "cell_type": "code",
   "execution_count": 16,
   "id": "2ba086ce",
   "metadata": {},
   "outputs": [],
   "source": [
    "# difference between print result and return result\n",
    "def print_result(a, b):\n",
    "    print(a + b)"
   ]
  },
  {
   "cell_type": "code",
   "execution_count": 17,
   "id": "915bbb12",
   "metadata": {},
   "outputs": [],
   "source": [
    "def return_result(a, b):\n",
    "    return a + b"
   ]
  },
  {
   "cell_type": "code",
   "execution_count": 18,
   "id": "d0ffd99d",
   "metadata": {},
   "outputs": [
    {
     "name": "stdout",
     "output_type": "stream",
     "text": [
      "30\n"
     ]
    }
   ],
   "source": [
    "print_result(10, 20)"
   ]
  },
  {
   "cell_type": "code",
   "execution_count": 19,
   "id": "52b4b737",
   "metadata": {},
   "outputs": [
    {
     "name": "stdout",
     "output_type": "stream",
     "text": [
      "30\n"
     ]
    }
   ],
   "source": [
    "result = print_result(10, 20)"
   ]
  },
  {
   "cell_type": "code",
   "execution_count": 22,
   "id": "612e0f39",
   "metadata": {},
   "outputs": [],
   "source": [
    "# result is empty because print_result() did not return anything\n",
    "result"
   ]
  },
  {
   "cell_type": "code",
   "execution_count": 23,
   "id": "f2adeed8",
   "metadata": {},
   "outputs": [
    {
     "data": {
      "text/plain": [
       "NoneType"
      ]
     },
     "execution_count": 23,
     "metadata": {},
     "output_type": "execute_result"
    }
   ],
   "source": [
    "type(result)"
   ]
  },
  {
   "cell_type": "code",
   "execution_count": 24,
   "id": "f70650a2",
   "metadata": {},
   "outputs": [
    {
     "data": {
      "text/plain": [
       "30"
      ]
     },
     "execution_count": 24,
     "metadata": {},
     "output_type": "execute_result"
    }
   ],
   "source": [
    "return_result(10, 20)"
   ]
  },
  {
   "cell_type": "code",
   "execution_count": 25,
   "id": "f56ce4d2",
   "metadata": {},
   "outputs": [],
   "source": [
    "result = return_result(10, 20)"
   ]
  },
  {
   "cell_type": "code",
   "execution_count": 27,
   "id": "b1f2bb54",
   "metadata": {},
   "outputs": [
    {
     "data": {
      "text/plain": [
       "30"
      ]
     },
     "execution_count": 27,
     "metadata": {},
     "output_type": "execute_result"
    }
   ],
   "source": [
    "# result is not empty because return_result() returned the sum\n",
    "result"
   ]
  },
  {
   "cell_type": "code",
   "execution_count": 32,
   "id": "8427d51f",
   "metadata": {},
   "outputs": [],
   "source": [
    "# using print and return together\n",
    "def myfunc(a, b):\n",
    "    print(a + b)\n",
    "    return a + b"
   ]
  },
  {
   "cell_type": "code",
   "execution_count": 33,
   "id": "f870eb18",
   "metadata": {},
   "outputs": [
    {
     "name": "stdout",
     "output_type": "stream",
     "text": [
      "30\n"
     ]
    }
   ],
   "source": [
    "result = myfunc(10, 20)"
   ]
  },
  {
   "cell_type": "code",
   "execution_count": 34,
   "id": "b4f93454",
   "metadata": {},
   "outputs": [
    {
     "data": {
      "text/plain": [
       "30"
      ]
     },
     "execution_count": 34,
     "metadata": {},
     "output_type": "execute_result"
    }
   ],
   "source": [
    "result"
   ]
  },
  {
   "cell_type": "code",
   "execution_count": 38,
   "id": "388c2c7f",
   "metadata": {},
   "outputs": [],
   "source": [
    "#  type of the data returned is not checked\n",
    "def sum_numbers(num1, num2):\n",
    "    return num1 + num2"
   ]
  },
  {
   "cell_type": "code",
   "execution_count": 40,
   "id": "32ebba47",
   "metadata": {},
   "outputs": [
    {
     "data": {
      "text/plain": [
       "30"
      ]
     },
     "execution_count": 40,
     "metadata": {},
     "output_type": "execute_result"
    }
   ],
   "source": [
    "sum_numbers(10, 20)"
   ]
  },
  {
   "cell_type": "code",
   "execution_count": 39,
   "id": "9ddeca60",
   "metadata": {},
   "outputs": [
    {
     "data": {
      "text/plain": [
       "'1020'"
      ]
     },
     "execution_count": 39,
     "metadata": {},
     "output_type": "execute_result"
    }
   ],
   "source": [
    "sum_numbers('10', '20')"
   ]
  },
  {
   "cell_type": "markdown",
   "id": "cabd8776",
   "metadata": {},
   "source": [
    "# args and kwargs in Python"
   ]
  },
  {
   "cell_type": "code",
   "execution_count": 11,
   "id": "3b468ed1",
   "metadata": {},
   "outputs": [],
   "source": [
    "def myfunc(a, b):\n",
    "    return sum((a,b)) * 0.05"
   ]
  },
  {
   "cell_type": "code",
   "execution_count": 12,
   "id": "439ce767",
   "metadata": {},
   "outputs": [
    {
     "data": {
      "text/plain": [
       "5.0"
      ]
     },
     "execution_count": 12,
     "metadata": {},
     "output_type": "execute_result"
    }
   ],
   "source": [
    "myfunc(40, 60)"
   ]
  },
  {
   "cell_type": "code",
   "execution_count": 16,
   "id": "c7121e17",
   "metadata": {},
   "outputs": [],
   "source": [
    "# using default values as an alternate solution\n",
    "def myfunc(a, b, c = 0, d = 0, e = 0):\n",
    "    return sum((a, b, c, d, e)) * 0.05"
   ]
  },
  {
   "cell_type": "code",
   "execution_count": 17,
   "id": "54671df1",
   "metadata": {},
   "outputs": [
    {
     "data": {
      "text/plain": [
       "10.0"
      ]
     },
     "execution_count": 17,
     "metadata": {},
     "output_type": "execute_result"
    }
   ],
   "source": [
    "myfunc(40, 60, 100)"
   ]
  },
  {
   "cell_type": "code",
   "execution_count": 18,
   "id": "6cf33a2f",
   "metadata": {},
   "outputs": [
    {
     "data": {
      "text/plain": [
       "15.0"
      ]
     },
     "execution_count": 18,
     "metadata": {},
     "output_type": "execute_result"
    }
   ],
   "source": [
    "myfunc(40, 60, 100, 100)"
   ]
  },
  {
   "cell_type": "code",
   "execution_count": 24,
   "id": "a65ff86d",
   "metadata": {},
   "outputs": [],
   "source": [
    "# *args returns a tuple\n",
    "def myfunc(*args):\n",
    "    print(args)\n",
    "    return sum(args) * 0.05"
   ]
  },
  {
   "cell_type": "code",
   "execution_count": 25,
   "id": "e3688c44",
   "metadata": {},
   "outputs": [
    {
     "name": "stdout",
     "output_type": "stream",
     "text": [
      "(40, 60)\n"
     ]
    },
    {
     "data": {
      "text/plain": [
       "5.0"
      ]
     },
     "execution_count": 25,
     "metadata": {},
     "output_type": "execute_result"
    }
   ],
   "source": [
    "myfunc(40, 60)"
   ]
  },
  {
   "cell_type": "code",
   "execution_count": 26,
   "id": "a0305a89",
   "metadata": {},
   "outputs": [
    {
     "name": "stdout",
     "output_type": "stream",
     "text": [
      "(40, 60, 100)\n"
     ]
    },
    {
     "data": {
      "text/plain": [
       "10.0"
      ]
     },
     "execution_count": 26,
     "metadata": {},
     "output_type": "execute_result"
    }
   ],
   "source": [
    "myfunc(40, 60, 100)"
   ]
  },
  {
   "cell_type": "code",
   "execution_count": 27,
   "id": "3360a2f6",
   "metadata": {},
   "outputs": [
    {
     "name": "stdout",
     "output_type": "stream",
     "text": [
      "(1, 2, 3, 4, 5, 6)\n"
     ]
    },
    {
     "data": {
      "text/plain": [
       "1.05"
      ]
     },
     "execution_count": 27,
     "metadata": {},
     "output_type": "execute_result"
    }
   ],
   "source": [
    "myfunc(1, 2, 3, 4, 5, 6)"
   ]
  },
  {
   "cell_type": "code",
   "execution_count": 32,
   "id": "9878e2cb",
   "metadata": {},
   "outputs": [],
   "source": [
    "# **kwargs returns a dictionary\n",
    "def myfunc(**kwargs):\n",
    "    print(kwargs)\n",
    "    if 'fruit' in kwargs:\n",
    "        print('My fruit of choice is {}'.format(kwargs['fruit']))\n",
    "    else:\n",
    "        print('I did not find any fruit here')"
   ]
  },
  {
   "cell_type": "code",
   "execution_count": 33,
   "id": "9b4f1282",
   "metadata": {},
   "outputs": [
    {
     "name": "stdout",
     "output_type": "stream",
     "text": [
      "{'fruit': 'apple', 'veggie': 'lettuce'}\n",
      "My fruit of choice is apple\n"
     ]
    }
   ],
   "source": [
    "myfunc(fruit = 'apple', veggie = 'lettuce')"
   ]
  },
  {
   "cell_type": "code",
   "execution_count": 36,
   "id": "c1bffa0f",
   "metadata": {},
   "outputs": [],
   "source": [
    "def myfunc(*args, **kwargs):\n",
    "    print(args)\n",
    "    print(kwargs)\n",
    "    print(\"I would like {} {}\".format(args[0], kwargs['food']))"
   ]
  },
  {
   "cell_type": "code",
   "execution_count": 37,
   "id": "2d3fcb28",
   "metadata": {},
   "outputs": [
    {
     "name": "stdout",
     "output_type": "stream",
     "text": [
      "(10, 20, 30)\n",
      "{'food': 'eggs', 'animal': 'dog'}\n",
      "I would like 10 eggs\n"
     ]
    }
   ],
   "source": [
    "myfunc(10,20,30, food = 'eggs', animal = 'dog')"
   ]
  },
  {
   "cell_type": "code",
   "execution_count": null,
   "id": "086b884c",
   "metadata": {},
   "outputs": [],
   "source": []
  }
 ],
 "metadata": {
  "kernelspec": {
   "display_name": "Python 3",
   "language": "python",
   "name": "python3"
  },
  "language_info": {
   "codemirror_mode": {
    "name": "ipython",
    "version": 3
   },
   "file_extension": ".py",
   "mimetype": "text/x-python",
   "name": "python",
   "nbconvert_exporter": "python",
   "pygments_lexer": "ipython3",
   "version": "3.8.8"
  }
 },
 "nbformat": 4,
 "nbformat_minor": 5
}
