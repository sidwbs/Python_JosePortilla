{
 "cells": [
  {
   "cell_type": "markdown",
   "id": "345aade2",
   "metadata": {},
   "source": [
    "# Simple User Interaction"
   ]
  },
  {
   "cell_type": "code",
   "execution_count": 1,
   "id": "7e798f42",
   "metadata": {},
   "outputs": [],
   "source": [
    "# creating an empty list\n",
    "# display the list\n",
    "# taking user input for the position\n",
    "# replacing the item in the list with user input position\n",
    "# taking user input to conitnue the game or stop\n",
    "# calling all functions together"
   ]
  },
  {
   "cell_type": "code",
   "execution_count": 2,
   "id": "7e99dc40",
   "metadata": {},
   "outputs": [],
   "source": [
    "game_list = [1, 2, 3]"
   ]
  },
  {
   "cell_type": "code",
   "execution_count": 3,
   "id": "aeb4fb35",
   "metadata": {},
   "outputs": [],
   "source": [
    "def display_list():\n",
    "    print(\"Here is the current list: \")\n",
    "    print(game_list)"
   ]
  },
  {
   "cell_type": "code",
   "execution_count": 4,
   "id": "a42cb6dc",
   "metadata": {},
   "outputs": [],
   "source": [
    "def input_position():\n",
    "    pos = False\n",
    "    \n",
    "    while pos == False:\n",
    "        user_input = int(input(\"Pick a position to replace (0, 1, 2):\\n\"))\n",
    "        if user_input in [0, 1, 2]:\n",
    "            pos = True\n",
    "        else:\n",
    "            print(\"Sorry, but you did not choose a valid position. Try Again!\")\n",
    "            continue\n",
    "    return user_input\n",
    "        "
   ]
  },
  {
   "cell_type": "code",
   "execution_count": 5,
   "id": "07832564",
   "metadata": {},
   "outputs": [],
   "source": [
    "def replace_input(game_list, user_input):\n",
    "    item = input(\"Enter a value to replace at the position\\n\")\n",
    "    game_list[user_input] = item\n",
    "    return game_list"
   ]
  },
  {
   "cell_type": "code",
   "execution_count": 6,
   "id": "9831bdbe",
   "metadata": {},
   "outputs": [],
   "source": [
    "def game_on():\n",
    "    choice = 'wrong'\n",
    "    while choice not in ['Y', 'N']:\n",
    "        choice = input(\"Would you like to keep playing? (Y/N)\\n\")\n",
    "        if choice in ['Y', 'N']:\n",
    "            return choice\n",
    "        else:\n",
    "            print(\"Sorry I did not understand. Please make a valid choice.\")\n",
    "            continue        "
   ]
  },
  {
   "cell_type": "code",
   "execution_count": 7,
   "id": "c448ce55",
   "metadata": {},
   "outputs": [
    {
     "name": "stdout",
     "output_type": "stream",
     "text": [
      "Here is the current list: \n",
      "[1, 2, 3]\n",
      "Pick a position to replace (0, 1, 2):\n",
      "1\n",
      "Enter a value to replace at the position\n",
      "s\n",
      "Here is the current list: \n",
      "[1, 's', 3]\n",
      "Would you like to keep playing? (Y/N)\n",
      "N\n"
     ]
    }
   ],
   "source": [
    "user_choice = 'Y'\n",
    "\n",
    "while user_choice == 'Y':\n",
    "    display_list()\n",
    "    position = input_position()\n",
    "    game_list = replace_input(game_list, position)\n",
    "    display_list()\n",
    "    user_choice = game_on()"
   ]
  },
  {
   "cell_type": "markdown",
   "id": "f2e133fa",
   "metadata": {},
   "source": [
    "# Tic Tac Toe"
   ]
  },
  {
   "cell_type": "code",
   "execution_count": 16,
   "id": "0649fc05",
   "metadata": {},
   "outputs": [],
   "source": [
    "row1 = [' ', ' ', ' ']\n",
    "row2 = [' ', ' ', ' ']\n",
    "row3 = [' ', ' ', ' ']"
   ]
  },
  {
   "cell_type": "code",
   "execution_count": 3,
   "id": "980335fd",
   "metadata": {},
   "outputs": [],
   "source": [
    "# diplaying the board\n",
    "def display_board(row1, row2, row3):\n",
    "    print('  '+'|' + '  ' + ' |' +'  ' + '\\n' \n",
    "          + row1[0] + ' | ' + row1[1] + ' | ' + row1[2] + '\\n'\n",
    "          + '  '+'|' + '  ' + ' | ' +'  ' + '\\n'\n",
    "          + ' --------  '+ '\\n'+\n",
    "          '  '+'| ' + '  ' + '| ' +'  ' + '\\n' \n",
    "          + row2[0] + ' | ' + row2[1] + ' | ' + row2[2] + '\\n'\n",
    "          + '  '+'|' + '  ' + ' | ' +'  ' + '\\n'\n",
    "          + ' --------  '+ '\\n'+\n",
    "          '  '+'| ' + '  ' + '| ' +'  ' + '\\n' \n",
    "          + row3[0] + ' | ' + row3[1] + ' | ' + row3[2] + '\\n'\n",
    "          + '  '+'| ' + '  ' + '| ' +'  ' + '\\n')"
   ]
  },
  {
   "cell_type": "code",
   "execution_count": 4,
   "id": "f9ac663c",
   "metadata": {},
   "outputs": [
    {
     "name": "stdout",
     "output_type": "stream",
     "text": [
      "  |   |  \n",
      "  |   |  \n",
      "  |   |   \n",
      " --------  \n",
      "  |   |   \n",
      "  |   |  \n",
      "  |   |   \n",
      " --------  \n",
      "  |   |   \n",
      "  |   |  \n",
      "  |   |   \n",
      "\n"
     ]
    }
   ],
   "source": [
    "display_board(row1, row2, row3)"
   ]
  },
  {
   "cell_type": "code",
   "execution_count": 5,
   "id": "654cdc14",
   "metadata": {},
   "outputs": [],
   "source": [
    "def assigning_XO():\n",
    "    player1 = None\n",
    "    player2 = None\n",
    "    player1_name = input(\"Provide player 1 name:\\n\")\n",
    "    player2_name = input(\"Provide player 2 name:\\n\")\n",
    "    player1 = input(f\"{player1_name} Do you want to be X or O\\n\")\n",
    "    if player1 == 'X':\n",
    "        player2 = 'O'\n",
    "        print(\"Player1: {} -> 'X' and Player 2: {} -> 'O'\".format(player1_name, player2_name))\n",
    "    elif player1 == 'O':\n",
    "        player2 = 'X'\n",
    "        print(\"Player1: {} -> 'O' and Player 2:{} -> 'X'\".format(player1_name, player2_name))\n",
    "    return player1, player2"
   ]
  },
  {
   "cell_type": "code",
   "execution_count": 6,
   "id": "bcf9008e",
   "metadata": {},
   "outputs": [],
   "source": [
    "def play_pos(player1, player2):\n",
    "    current_player = 'Player1'\n",
    "    play = 'yes'\n",
    "    while current_player == 'Player1' and play == 'yes':\n",
    "        pos = int(input(\"Player1!..Choose your Board position: (1-9)\\n\")) \n",
    "        if pos in range(1, 4):\n",
    "            row3[pos - 1] = player1\n",
    "            current_player = 'Player2'\n",
    "            display_board(row1, row2, row3)\n",
    "            play = win_check(row1, row2, row3)\n",
    "        elif pos in range(4, 7):\n",
    "            row2[pos - 1 - 3] = player1\n",
    "            current_player = 'Player2'\n",
    "            display_board(row1, row2, row3)\n",
    "            play = win_check(row1, row2, row3)\n",
    "        elif pos in range(7, 10):\n",
    "            row1[pos - 1 - 6] = player1\n",
    "            current_player = 'Player2'\n",
    "            display_board(row1, row2, row3)\n",
    "            play = win_check(row1, row2, row3)\n",
    "        else:\n",
    "            continue\n",
    "    \n",
    "    while current_player == 'Player2' and play == 'yes':\n",
    "        pos = int(input(\"Player2!..Choose your Board position: (1-9)\\n\")) \n",
    "        if pos in range(1, 4):\n",
    "            row3[pos - 1] = player2\n",
    "            current_player = 'Player1'\n",
    "            display_board(row1, row2, row3)\n",
    "            play = win_check(row1, row2, row3)\n",
    "        elif pos in range(4, 7):\n",
    "            row2[pos - 1 - 3] = player2\n",
    "            current_player = 'Player1'\n",
    "            display_board(row1, row2, row3)\n",
    "            play = win_check(row1, row2, row3)\n",
    "        elif pos in range(7, 10):\n",
    "            row1[pos - 1 - 6] = player2\n",
    "            current_player = 'Player1'\n",
    "            display_board(row1, row2, row3)\n",
    "            play = win_check(row1, row2, row3)\n",
    "        else:\n",
    "            continue\n",
    "    return play\n",
    "        "
   ]
  },
  {
   "cell_type": "code",
   "execution_count": 7,
   "id": "1c394d7b",
   "metadata": {},
   "outputs": [],
   "source": [
    "def win_check(row1, row2, row3):\n",
    "    if (row3[0] == row2[1] == row1[2] == 'X') or (row3[0] == row2[1] == row1[2] == 'O') or (row3[2] == row2[1] == row1[0] == 'X') or (row3[2] == row2[1] == row1[0] == 'O') or (row3[0] == row2[0]  == row1[0] == 'X') or (row3[0] == row2[0]  == row1[0] == 'O') or (row3[2] ==  row2[2] == row1[2] == 'X') or (row3[2] ==  row2[2] == row1[2] == 'O') or (row3[0] == row3[1]  == row3[2] == 'X') or (row3[0] == row3[1]  == row3[2] == 'O') or (row2[0] == row2[1] == row2[2] == 'X') or (row2[0] == row2[1] == row2[2] == 'O') or (row1[0] ==  row1[1] == row1[2] == 'X') or (row1[0] ==  row1[1] == row1[2] == 'Y'):\n",
    "        print(\"Congratulations! YOU WON!!\")\n",
    "        return 'Stop'\n",
    "    else:\n",
    "        return 'yes'"
   ]
  },
  {
   "cell_type": "code",
   "execution_count": 8,
   "id": "60ad915d",
   "metadata": {},
   "outputs": [],
   "source": [
    "def game_on():\n",
    "    print(\"WELCOME TO TIC TAC TOE!\")\n",
    "    display_board(row1, row2, row3)\n",
    "    player1, player2 = assigning_XO()\n",
    "    play = 'yes'\n",
    "    while play == 'yes':\n",
    "        play = play_pos(player1, player2)"
   ]
  },
  {
   "cell_type": "code",
   "execution_count": 17,
   "id": "a1abe457",
   "metadata": {},
   "outputs": [
    {
     "name": "stdout",
     "output_type": "stream",
     "text": [
      "WELCOME TO TIC TAC TOE!\n",
      "  |   |  \n",
      "  |   |  \n",
      "  |   |   \n",
      " --------  \n",
      "  |   |   \n",
      "  |   |  \n",
      "  |   |   \n",
      " --------  \n",
      "  |   |   \n",
      "  |   |  \n",
      "  |   |   \n",
      "\n",
      "Provide player 1 name:\n",
      "ayu\n",
      "Provide player 2 name:\n",
      "rishu\n",
      "ayu Do you want to be X or O\n",
      "X\n",
      "Player1: ayu -> 'X' and Player 2: rishu -> 'O'\n",
      "Player1!..Choose your Board position: (1-9)\n",
      "3\n",
      "  |   |  \n",
      "  |   |  \n",
      "  |   |   \n",
      " --------  \n",
      "  |   |   \n",
      "  |   |  \n",
      "  |   |   \n",
      " --------  \n",
      "  |   |   \n",
      "  |   | X\n",
      "  |   |   \n",
      "\n",
      "Player2!..Choose your Board position: (1-9)\n",
      "7\n",
      "  |   |  \n",
      "O |   |  \n",
      "  |   |   \n",
      " --------  \n",
      "  |   |   \n",
      "  |   |  \n",
      "  |   |   \n",
      " --------  \n",
      "  |   |   \n",
      "  |   | X\n",
      "  |   |   \n",
      "\n",
      "Player1!..Choose your Board position: (1-9)\n",
      "9\n",
      "  |   |  \n",
      "O |   | X\n",
      "  |   |   \n",
      " --------  \n",
      "  |   |   \n",
      "  |   |  \n",
      "  |   |   \n",
      " --------  \n",
      "  |   |   \n",
      "  |   | X\n",
      "  |   |   \n",
      "\n",
      "Player2!..Choose your Board position: (1-9)\n",
      "6\n",
      "  |   |  \n",
      "O |   | X\n",
      "  |   |   \n",
      " --------  \n",
      "  |   |   \n",
      "  |   | O\n",
      "  |   |   \n",
      " --------  \n",
      "  |   |   \n",
      "  |   | X\n",
      "  |   |   \n",
      "\n",
      "Player1!..Choose your Board position: (1-9)\n",
      "3\n",
      "  |   |  \n",
      "O |   | X\n",
      "  |   |   \n",
      " --------  \n",
      "  |   |   \n",
      "  |   | O\n",
      "  |   |   \n",
      " --------  \n",
      "  |   |   \n",
      "  |   | X\n",
      "  |   |   \n",
      "\n",
      "Player2!..Choose your Board position: (1-9)\n",
      "7\n",
      "  |   |  \n",
      "O |   | X\n",
      "  |   |   \n",
      " --------  \n",
      "  |   |   \n",
      "  |   | O\n",
      "  |   |   \n",
      " --------  \n",
      "  |   |   \n",
      "  |   | X\n",
      "  |   |   \n",
      "\n",
      "Player1!..Choose your Board position: (1-9)\n",
      "1\n",
      "  |   |  \n",
      "O |   | X\n",
      "  |   |   \n",
      " --------  \n",
      "  |   |   \n",
      "  |   | O\n",
      "  |   |   \n",
      " --------  \n",
      "  |   |   \n",
      "X |   | X\n",
      "  |   |   \n",
      "\n",
      "Player2!..Choose your Board position: (1-9)\n",
      "5\n",
      "  |   |  \n",
      "O |   | X\n",
      "  |   |   \n",
      " --------  \n",
      "  |   |   \n",
      "  | O | O\n",
      "  |   |   \n",
      " --------  \n",
      "  |   |   \n",
      "X |   | X\n",
      "  |   |   \n",
      "\n",
      "Player1!..Choose your Board position: (1-9)\n",
      "2\n",
      "  |   |  \n",
      "O |   | X\n",
      "  |   |   \n",
      " --------  \n",
      "  |   |   \n",
      "  | O | O\n",
      "  |   |   \n",
      " --------  \n",
      "  |   |   \n",
      "X | X | X\n",
      "  |   |   \n",
      "\n",
      "Congratulations! YOU WON!!\n"
     ]
    }
   ],
   "source": [
    "game_on()"
   ]
  },
  {
   "cell_type": "code",
   "execution_count": 10,
   "id": "5ce8a659",
   "metadata": {},
   "outputs": [
    {
     "data": {
      "text/plain": [
       "[' ', ' ', ' ']"
      ]
     },
     "execution_count": 10,
     "metadata": {},
     "output_type": "execute_result"
    }
   ],
   "source": [
    "row1"
   ]
  },
  {
   "cell_type": "code",
   "execution_count": 11,
   "id": "21b61f56",
   "metadata": {},
   "outputs": [
    {
     "data": {
      "text/plain": [
       "[' ', None, ' ']"
      ]
     },
     "execution_count": 11,
     "metadata": {},
     "output_type": "execute_result"
    }
   ],
   "source": [
    "row2"
   ]
  },
  {
   "cell_type": "code",
   "execution_count": null,
   "id": "0c2f8f27",
   "metadata": {},
   "outputs": [],
   "source": []
  }
 ],
 "metadata": {
  "kernelspec": {
   "display_name": "Python 3",
   "language": "python",
   "name": "python3"
  },
  "language_info": {
   "codemirror_mode": {
    "name": "ipython",
    "version": 3
   },
   "file_extension": ".py",
   "mimetype": "text/x-python",
   "name": "python",
   "nbconvert_exporter": "python",
   "pygments_lexer": "ipython3",
   "version": "3.8.8"
  }
 },
 "nbformat": 4,
 "nbformat_minor": 5
}
