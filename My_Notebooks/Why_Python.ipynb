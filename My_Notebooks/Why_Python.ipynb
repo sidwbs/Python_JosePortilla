{
 "cells": [
  {
   "cell_type": "markdown",
   "id": "ec039f8f",
   "metadata": {},
   "source": [
    "# Why Python\n",
    "\n",
    "- Designed for clear, logical code that is easy to understand.\n",
    "- a number of existing libraries and frameworks written in Python that users can implement in a wide variety of tasks.\n",
    "- it focuses on optimizing on developers time as compared to computers processing time.\n",
    "- Automates simple tasks."
   ]
  }
 ],
 "metadata": {
  "kernelspec": {
   "display_name": "Python 3",
   "language": "python",
   "name": "python3"
  },
  "language_info": {
   "codemirror_mode": {
    "name": "ipython",
    "version": 3
   },
   "file_extension": ".py",
   "mimetype": "text/x-python",
   "name": "python",
   "nbconvert_exporter": "python",
   "pygments_lexer": "ipython3",
   "version": "3.8.8"
  }
 },
 "nbformat": 4,
 "nbformat_minor": 5
}
